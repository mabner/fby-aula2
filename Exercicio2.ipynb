{
 "metadata": {
  "language_info": {
   "codemirror_mode": {
    "name": "ipython",
    "version": 3
   },
   "file_extension": ".py",
   "mimetype": "text/x-python",
   "name": "python",
   "nbconvert_exporter": "python",
   "pygments_lexer": "ipython3",
   "version": 3
  },
  "orig_nbformat": 4
 },
 "nbformat": 4,
 "nbformat_minor": 2,
 "cells": [
  {
   "source": [
    "1. Como organizar modelos em módulos?"
   ],
   "cell_type": "markdown",
   "metadata": {}
  },
  {
   "source": [
    "2. Como criar modelos com herança? De quais tipos?"
   ],
   "cell_type": "markdown",
   "metadata": {}
  },
  {
   "source": [
    "3. Como criar Enumeration types e usar como choices?"
   ],
   "cell_type": "markdown",
   "metadata": {}
  },
  {
   "source": [
    "4. No projeto da aula, crie pelo menos quatro queries customizadas. Use as informações em https://docs.djangoproject.com/en/3.0/topics/db/queries/ (Links para um site externo.)"
   ],
   "cell_type": "markdown",
   "metadata": {}
  },
  {
   "source": [
    "5. O que é, para quê serve e como usar um Proxy no modelo?"
   ],
   "cell_type": "markdown",
   "metadata": {}
  },
  {
   "source": [
    "6. O que faz o método __str__() em uma classe?"
   ],
   "cell_type": "markdown",
   "metadata": {}
  },
  {
   "source": [
    "7. Quais são e para que servem as propriedades adicionais dos tipos de relacionamento/mapeamento?"
   ],
   "cell_type": "markdown",
   "metadata": {}
  }
 ]
}