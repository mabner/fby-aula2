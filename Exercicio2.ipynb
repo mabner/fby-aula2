{
 "metadata": {
  "language_info": {
   "codemirror_mode": {
    "name": "ipython",
    "version": 3
   },
   "file_extension": ".py",
   "mimetype": "text/x-python",
   "name": "python",
   "nbconvert_exporter": "python",
   "pygments_lexer": "ipython3",
   "version": "3.9.2"
  },
  "orig_nbformat": 4,
  "kernelspec": {
   "name": "python3",
   "display_name": "Python 3.9.2 64-bit"
  },
  "interpreter": {
   "hash": "63fd5069d213b44bf678585dea6b12cceca9941eaf7f819626cde1f2670de90d"
  }
 },
 "nbformat": 4,
 "nbformat_minor": 2,
 "cells": [
  {
   "source": [
    "# Exercício 2\n",
    "\n",
    "**Para testar os modelos criados, você não precisa rodar o servidor. É possível usar o comando:**\n",
    "```python\n",
    "python manage.py shell\n",
    "```\n",
    "---"
   ],
   "cell_type": "markdown",
   "metadata": {}
  },
  {
   "source": [
    "1. Como organizar modelos em módulos?\n",
    "\n"
   ],
   "cell_type": "markdown",
   "metadata": {}
  },
  {
   "source": [
    "2. Como criar modelos com herança? De quais tipos?\n",
    "\n",
    "Para criar modelos com herança, criamos a classe do modelo herdando as definições de outra classe, informando a classe pai entre parênteses.\n",
    "As heranças podem ser simples, onde uma classe herda as propriedades e métodos de uma outra classe, chamada de classe pai ou classe base e também pode ser herança multipla, onde a classe filha herda de várias outras classes.  \n",
    "E.g:   "
   ],
   "cell_type": "markdown",
   "metadata": {}
  },
  {
   "cell_type": "code",
   "execution_count": 13,
   "metadata": {},
   "outputs": [],
   "source": [
    "class Bicicleta(): # Classe pai\n",
    "    def __init__(self, marca, modelo, cor):\n",
    "        self.__marca = marca\n",
    "        self.__modelo = modelo\n",
    "        self.__cor = cor\n",
    "\n",
    "class Veiculo():\n",
    "    def __init__(self, tipo):\n",
    "        self.__tipo = tipo\n",
    "\n",
    "class MountainBike(Bicicleta): # Herdando as propriedades da classe pai\n",
    "    def __init__(self, marca, modelo, cor):\n",
    "        super().__init__(marca, modelo, cor)\n",
    "\n",
    "class RoadBike(Bicicleta, Veiculo): # Herança múltipla\n",
    "    def __init__(self, marca, modelo, cor, tipo):\n",
    "        super().__init__(marca, modelo, cor, tipo)"
   ]
  },
  {
   "source": [
    "3. Como criar Enumeration types e usar como choices?\n",
    "\n"
   ],
   "cell_type": "markdown",
   "metadata": {}
  },
  {
   "cell_type": "code",
   "execution_count": 18,
   "metadata": {},
   "outputs": [],
   "source": [
    "class Pessoa():\n",
    "    def __init__(self,sexo):\n",
    "        self.SEXO_CHOICES = [('M','Masculino'),\n",
    "\t\t\t\t\t('F','Feminino')]\n",
    "        self.__sexo = CharField(max_length=10,\n",
    "        choices=SEXO_CHOICES,\n",
    "        default='M')"
   ]
  },
  {
   "source": [
    "4. No projeto da aula, crie pelo menos quatro queries customizadas. Use as informações em https://docs.djangoproject.com/en/3.0/topics/db/queries/ (Links para um site externo.)\n",
    "\n"
   ],
   "cell_type": "markdown",
   "metadata": {}
  },
  {
   "source": [
    "5. O que é, para quê serve e como usar um Proxy no modelo?\n",
    "\n"
   ],
   "cell_type": "markdown",
   "metadata": {}
  },
  {
   "source": [
    "6. O que faz o método __str__() em uma classe?\n",
    "\n",
    "Retorna uma versão string de um objeto.\n"
   ],
   "cell_type": "markdown",
   "metadata": {}
  },
  {
   "source": [
    "7. Quais são e para que servem as propriedades adicionais dos tipos de relacionamento/mapeamento?\n",
    "\n"
   ],
   "cell_type": "markdown",
   "metadata": {}
  }
 ]
}