{
 "metadata": {
  "language_info": {
   "codemirror_mode": {
    "name": "ipython",
    "version": 3
   },
   "file_extension": ".py",
   "mimetype": "text/x-python",
   "name": "python",
   "nbconvert_exporter": "python",
   "pygments_lexer": "ipython3",
   "version": "3.9.2"
  },
  "orig_nbformat": 4,
  "kernelspec": {
   "name": "python3",
   "display_name": "Python 3.9.2 64-bit"
  },
  "interpreter": {
   "hash": "63fd5069d213b44bf678585dea6b12cceca9941eaf7f819626cde1f2670de90d"
  }
 },
 "nbformat": 4,
 "nbformat_minor": 2,
 "cells": [
  {
   "source": [
    "# Exercício 2\n",
    "\n",
    "**Para testar os modelos criados, você não precisa rodar o servidor. É possível usar o comando:**\n",
    "```python\n",
    "python manage.py shell\n",
    "\n",
    "from meuapp.models import *\n",
    "```\n",
    "---"
   ],
   "cell_type": "markdown",
   "metadata": {}
  },
  {
   "source": [
    "1. Como organizar modelos em módulos?\n",
    "\n",
    "Os modelos são definidos em classes no código. Essas classes podem ser divididas cada uma em um arquivo, pra ficarem em módulos separados, ou podem ser feitos no mesmo arquivo, em classes separadas.\n",
    "No caso de fazermos em arquivos separados, o padrão é criar uma pasta *models* e colocar esses arquivos lá dentro, junto com um arquivo `__init`__.py. Essas modificações foram feitas no projeto da aula pra demonstrar a implementação."
   ],
   "cell_type": "markdown",
   "metadata": {}
  },
  {
   "source": [
    "2. Como criar modelos com herança? De quais tipos?\n",
    "\n",
    "Para criar modelos com herança, criamos a classe do modelo herdando as definições de outra classe, informando a classe pai entre parênteses.\n",
    "As heranças podem ser simples, onde uma classe herda as propriedades e métodos de uma outra classe, chamada de classe pai ou classe base e também pode ser herança multipla, onde a classe filha herda de várias outras classes.  \n",
    "E.g:   "
   ],
   "cell_type": "markdown",
   "metadata": {}
  },
  {
   "cell_type": "code",
   "execution_count": null,
   "metadata": {},
   "outputs": [],
   "source": [
    "class Bicicleta(): # Classe pai\n",
    "    def __init__(self, marca, modelo, cor):\n",
    "        self.__marca = marca\n",
    "        self.__modelo = modelo\n",
    "        self.__cor = cor\n",
    "\n",
    "class Veiculo():\n",
    "    def __init__(self, tipo):\n",
    "        self.__tipo = tipo\n",
    "\n",
    "class MountainBike(Bicicleta): # Herdando as propriedades da classe pai\n",
    "    def __init__(self, marca, modelo, cor):\n",
    "        super().__init__(marca, modelo, cor)\n",
    "\n",
    "class RoadBike(Bicicleta, Veiculo): # Herança múltipla\n",
    "    def __init__(self, marca, modelo, cor, tipo):\n",
    "        super().__init__(marca, modelo, cor, tipo)"
   ]
  },
  {
   "source": [
    "3. Como criar Enumeration types e usar como choices?\n",
    "\n"
   ],
   "cell_type": "markdown",
   "metadata": {}
  },
  {
   "cell_type": "code",
   "execution_count": null,
   "metadata": {},
   "outputs": [],
   "source": [
    "class Pessoa():\n",
    "    def __init__(self,sexo):\n",
    "        self.SEXO_CHOICES = [('M','Masculino'),\n",
    "\t\t\t\t\t('F','Feminino')]\n",
    "        self.__sexo = CharField(max_length=10,\n",
    "        choices=SEXO_CHOICES,\n",
    "        default='M')"
   ]
  },
  {
   "source": [
    "4. No projeto da aula, crie pelo menos quatro queries customizadas. Use as informações em https://docs.djangoproject.com/en/3.0/topics/db/queries/\n",
    "\n"
   ],
   "cell_type": "markdown",
   "metadata": {}
  },
  {
   "cell_type": "code",
   "execution_count": null,
   "metadata": {},
   "outputs": [],
   "source": [
    "from django.db import models \n",
    "class PessoaManager(models.Manager):\n",
    "\n",
    "    def obter_todas_pessoas(self):\n",
    "        return self.all()\n",
    "\n",
    "    def obter_familia(self):\n",
    "        pessoas = self.filter(sobrenome=\"Leite\")\n",
    "        return pessoas\n",
    "\n",
    "    def obter_masculino(self):\n",
    "        masculino = self.filter(sexo=\"M\")\n",
    "        return masculino\n",
    "\n",
    "    def obter_feminino(self):\n",
    "        feminino = self.filter(sexo=\"F\")\n",
    "        return feminino\n",
    "\n",
    "    def obter_maioridade(self):\n",
    "        maiores = self.filter(idade__gte=18)\n",
    "        # gte -> greater than or equal to\n",
    "        return maiores\n",
    "\n",
    "    def obter_primeiro_cadastro(self):\n",
    "        primeiro = self.get(id=1)\n",
    "        return primeiro\n",
    "\n",
    "    def pessoas_m(self):\n",
    "        pessoas_m = self.filter(nome__startswith=\"M\")\n",
    "        return pessoas_m"
   ]
  },
  {
   "source": [
    "5. O que é, para quê serve e como usar um Proxy no modelo?\n",
    "\n",
    "É um proxy para um modelo original. Um proxy serve pra alterar o comportamento de um modelo sem alterar o modelo original. Por exemplo podemos usar um proxy da classe Pessoa para alterar a forma em que a listagem de pessoas é retornada, em ordem alfabética por exemplo, ao invês de ser por ordem de cadastro (ID)."
   ],
   "cell_type": "markdown",
   "metadata": {}
  },
  {
   "cell_type": "code",
   "execution_count": null,
   "metadata": {},
   "outputs": [],
   "source": [
    "class PessoasOrdemAlfabetica(Pessoa):\n",
    "    class Meta:\n",
    "        ordering = [\"nome\"]\n",
    "        proxy = True"
   ]
  },
  {
   "source": [
    "6. O que faz o método __str__() em uma classe?\n",
    "\n",
    "Este método retorna uma versão string de um objeto, parecido com o que o .toString faz no Javascript.\n"
   ],
   "cell_type": "markdown",
   "metadata": {}
  },
  {
   "cell_type": "code",
   "execution_count": null,
   "metadata": {},
   "outputs": [],
   "source": [
    "def __str__(self):\n",
    "        return self.nome"
   ]
  },
  {
   "source": [
    "7. Quais são e para que servem as propriedades adicionais dos tipos de relacionamento/mapeamento?\n",
    "\n"
   ],
   "cell_type": "markdown",
   "metadata": {}
  }
 ]
}